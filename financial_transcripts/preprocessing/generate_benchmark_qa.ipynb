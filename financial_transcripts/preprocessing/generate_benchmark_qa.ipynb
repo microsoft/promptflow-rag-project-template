{
 "cells": [
  {
   "cell_type": "markdown",
   "metadata": {},
   "source": [
    "## Benchmark Question-Answer Generation"
   ]
  },
  {
   "cell_type": "markdown",
   "metadata": {},
   "source": [
    "This notebook demonstrates how we can generate a set of Questions and Answers based on chunks from a database. Documents chunked before insertion to a database and saved to `.csv` for MSFT transcripts sample. It is beneficial to generate questions and answers at this stage, as doing a search from a database has an added cost. Randomly picking chunks for specified filter parameters ensures diversity of the questions and answers. "
   ]
  },
  {
   "cell_type": "markdown",
   "metadata": {},
   "source": [
    "### SET UP AND CONFIGURATION"
   ]
  },
  {
   "cell_type": "markdown",
   "metadata": {},
   "source": [
    "Load Environment File"
   ]
  },
  {
   "cell_type": "code",
   "execution_count": 1,
   "metadata": {},
   "outputs": [],
   "source": [
    "from dotenv import dotenv_values\n",
    "from azure.keyvault.secrets import SecretClient\n",
    "from azure.identity import DefaultAzureCredential\n",
    "from azure.ai.resources.client import AIClient\n",
    "from azure.ai.generative.evaluate import evaluate\n",
    "import openai\n",
    "from prompt_templates import gen_prompt, eval_prompt, eval_prompt2\n",
    "\n",
    "# specify the name of the .env file name \n",
    "env_name = \"../../.env\" # change to your own .env file name\n",
    "config = dotenv_values(env_name)"
   ]
  },
  {
   "cell_type": "code",
   "execution_count": 2,
   "metadata": {},
   "outputs": [
    {
     "name": "stdout",
     "output_type": "stream",
     "text": [
      ".env was selected.\n"
     ]
    }
   ],
   "source": [
    "\"\"\"\n",
    "Remember to remove the key from your code when you're done, and never post it publicly. For production, use\n",
    "secure methods to store and access your credentials. For more information, see \n",
    "https://docs.microsoft.com/en-us/azure/cognitive-services/cognitive-services-security?tabs=command-line%2Ccsharp#environment-variables-and-application-configuration\n",
    "\"\"\"\n",
    "\n",
    "if config['KEYS_FROM'] == \"KEYVAULT\":\n",
    "    print('keyvault was selected.')\n",
    "    keyVaultName = config[\"KEY_VAULT_NAME\"]\n",
    "    KVUri = f\"https://{keyVaultName}.vault.azure.net\"\n",
    "\n",
    "    credential = DefaultAzureCredential()\n",
    "    client = SecretClient(vault_url=KVUri, credential=credential)\n",
    "    openai.api_type = client.get_secret(\"OPENAI-API-TYPE\").value\n",
    "    openai.api_key = client.get_secret(\"OPENAI-API-KEY\").value\n",
    "    openai.api_base = client.get_secret(\"OPENAI-API-BASE\").value\n",
    "    openai.api_version = client.get_secret(\"OPENAI-API-VERSION\").value\n",
    "    \n",
    "else:\n",
    "    print('.env was selected.')\n",
    "    openai.api_type = config[\"OPENAI_API_TYPE\"] \n",
    "    openai.api_key = config[\"OPENAI_API_KEY\"]\n",
    "    openai.api_base = config[\"OPENAI_API_BASE\"] \n",
    "    openai.api_version = config[\"OPENAI_API_VERSION\"] "
   ]
  },
  {
   "cell_type": "markdown",
   "metadata": {},
   "source": [
    "Read Chunks from csv (see step2 notebook from preprocessing subdirectory)"
   ]
  },
  {
   "cell_type": "code",
   "execution_count": 3,
   "metadata": {},
   "outputs": [],
   "source": [
    "import numpy as np\n",
    "import pandas as pd\n",
    "df = pd.read_csv('AnalyzedPDF/ChunksEmbedding.csv')"
   ]
  },
  {
   "cell_type": "code",
   "execution_count": 4,
   "metadata": {},
   "outputs": [
    {
     "data": {
      "text/html": [
       "<div>\n",
       "<style scoped>\n",
       "    .dataframe tbody tr th:only-of-type {\n",
       "        vertical-align: middle;\n",
       "    }\n",
       "\n",
       "    .dataframe tbody tr th {\n",
       "        vertical-align: top;\n",
       "    }\n",
       "\n",
       "    .dataframe thead th {\n",
       "        text-align: right;\n",
       "    }\n",
       "</style>\n",
       "<table border=\"1\" class=\"dataframe\">\n",
       "  <thead>\n",
       "    <tr style=\"text-align: right;\">\n",
       "      <th></th>\n",
       "      <th>Id</th>\n",
       "      <th>Ticker</th>\n",
       "      <th>Year</th>\n",
       "      <th>Quarter</th>\n",
       "      <th>Chunk</th>\n",
       "      <th>PageNumber</th>\n",
       "      <th>LineNumber</th>\n",
       "      <th>Embedding</th>\n",
       "    </tr>\n",
       "  </thead>\n",
       "  <tbody>\n",
       "    <tr>\n",
       "      <th>113</th>\n",
       "      <td>114</td>\n",
       "      <td>MSFT</td>\n",
       "      <td>23</td>\n",
       "      <td>2</td>\n",
       "      <td>Microsoft FY23 Second Quarter Earnings Confere...</td>\n",
       "      <td>1</td>\n",
       "      <td>1</td>\n",
       "      <td>[-0.022043932, -0.023832329, -0.015447599, -0....</td>\n",
       "    </tr>\n",
       "    <tr>\n",
       "      <th>114</th>\n",
       "      <td>115</td>\n",
       "      <td>MSFT</td>\n",
       "      <td>23</td>\n",
       "      <td>2</td>\n",
       "      <td>On the Microsoft Investor Relations website, y...</td>\n",
       "      <td>1</td>\n",
       "      <td>9</td>\n",
       "      <td>[-0.023697682, -0.005627374, -0.0051322975, -0...</td>\n",
       "    </tr>\n",
       "    <tr>\n",
       "      <th>115</th>\n",
       "      <td>116</td>\n",
       "      <td>MSFT</td>\n",
       "      <td>23</td>\n",
       "      <td>2</td>\n",
       "      <td>GAAP. They are included as additional clarifyi...</td>\n",
       "      <td>1</td>\n",
       "      <td>17</td>\n",
       "      <td>[-0.012550131, -0.0020706053, 0.007283737, -0....</td>\n",
       "    </tr>\n",
       "    <tr>\n",
       "      <th>116</th>\n",
       "      <td>117</td>\n",
       "      <td>MSFT</td>\n",
       "      <td>23</td>\n",
       "      <td>2</td>\n",
       "      <td>same in constant currency, we will refer to th...</td>\n",
       "      <td>1</td>\n",
       "      <td>25</td>\n",
       "      <td>[-0.01768585, -0.02943631, -0.00054391, -0.015...</td>\n",
       "    </tr>\n",
       "    <tr>\n",
       "      <th>117</th>\n",
       "      <td>118</td>\n",
       "      <td>MSFT</td>\n",
       "      <td>23</td>\n",
       "      <td>2</td>\n",
       "      <td>predictions, projections, or other statements ...</td>\n",
       "      <td>2</td>\n",
       "      <td>6</td>\n",
       "      <td>[-0.009156934, -0.019673413, -0.0082705645, -0...</td>\n",
       "    </tr>\n",
       "    <tr>\n",
       "      <th>...</th>\n",
       "      <td>...</td>\n",
       "      <td>...</td>\n",
       "      <td>...</td>\n",
       "      <td>...</td>\n",
       "      <td>...</td>\n",
       "      <td>...</td>\n",
       "      <td>...</td>\n",
       "      <td>...</td>\n",
       "    </tr>\n",
       "    <tr>\n",
       "      <th>216</th>\n",
       "      <td>217</td>\n",
       "      <td>MSFT</td>\n",
       "      <td>23</td>\n",
       "      <td>2</td>\n",
       "      <td>BRETT IVERSEN: Thanks, Brad. Joe, we have time...</td>\n",
       "      <td>31</td>\n",
       "      <td>13</td>\n",
       "      <td>[0.0011864604, -0.04014092, 0.009777045, -0.01...</td>\n",
       "    </tr>\n",
       "    <tr>\n",
       "      <th>217</th>\n",
       "      <td>218</td>\n",
       "      <td>MSFT</td>\n",
       "      <td>23</td>\n",
       "      <td>2</td>\n",
       "      <td>the coming quarters? Thank you. SATYA NADELLA:...</td>\n",
       "      <td>31</td>\n",
       "      <td>21</td>\n",
       "      <td>[0.009347212, -0.01008223, 0.015255094, -0.009...</td>\n",
       "    </tr>\n",
       "    <tr>\n",
       "      <th>218</th>\n",
       "      <td>219</td>\n",
       "      <td>MSFT</td>\n",
       "      <td>23</td>\n",
       "      <td>2</td>\n",
       "      <td>going to be an Al app. That's, I think, the be...</td>\n",
       "      <td>32</td>\n",
       "      <td>1</td>\n",
       "      <td>[0.005495851, -0.003575635, 0.013053961, 0.000...</td>\n",
       "    </tr>\n",
       "    <tr>\n",
       "      <th>219</th>\n",
       "      <td>220</td>\n",
       "      <td>MSFT</td>\n",
       "      <td>23</td>\n",
       "      <td>2</td>\n",
       "      <td>Sometimes, you will have ISVs who are differen...</td>\n",
       "      <td>32</td>\n",
       "      <td>9</td>\n",
       "      <td>[-0.004339527, -0.028531296, 0.017532898, -0.0...</td>\n",
       "    </tr>\n",
       "    <tr>\n",
       "      <th>220</th>\n",
       "      <td>221</td>\n",
       "      <td>MSFT</td>\n",
       "      <td>23</td>\n",
       "      <td>2</td>\n",
       "      <td>(Operator Direction.) END OF AUDIO *Complete a...</td>\n",
       "      <td>32</td>\n",
       "      <td>17</td>\n",
       "      <td>[-0.017824065, -0.026084332, 0.0069052815, -0....</td>\n",
       "    </tr>\n",
       "  </tbody>\n",
       "</table>\n",
       "<p>108 rows × 8 columns</p>\n",
       "</div>"
      ],
      "text/plain": [
       "      Id Ticker  Year  Quarter  \\\n",
       "113  114   MSFT    23        2   \n",
       "114  115   MSFT    23        2   \n",
       "115  116   MSFT    23        2   \n",
       "116  117   MSFT    23        2   \n",
       "117  118   MSFT    23        2   \n",
       "..   ...    ...   ...      ...   \n",
       "216  217   MSFT    23        2   \n",
       "217  218   MSFT    23        2   \n",
       "218  219   MSFT    23        2   \n",
       "219  220   MSFT    23        2   \n",
       "220  221   MSFT    23        2   \n",
       "\n",
       "                                                 Chunk  PageNumber  \\\n",
       "113  Microsoft FY23 Second Quarter Earnings Confere...           1   \n",
       "114  On the Microsoft Investor Relations website, y...           1   \n",
       "115  GAAP. They are included as additional clarifyi...           1   \n",
       "116  same in constant currency, we will refer to th...           1   \n",
       "117  predictions, projections, or other statements ...           2   \n",
       "..                                                 ...         ...   \n",
       "216  BRETT IVERSEN: Thanks, Brad. Joe, we have time...          31   \n",
       "217  the coming quarters? Thank you. SATYA NADELLA:...          31   \n",
       "218  going to be an Al app. That's, I think, the be...          32   \n",
       "219  Sometimes, you will have ISVs who are differen...          32   \n",
       "220  (Operator Direction.) END OF AUDIO *Complete a...          32   \n",
       "\n",
       "     LineNumber                                          Embedding  \n",
       "113           1  [-0.022043932, -0.023832329, -0.015447599, -0....  \n",
       "114           9  [-0.023697682, -0.005627374, -0.0051322975, -0...  \n",
       "115          17  [-0.012550131, -0.0020706053, 0.007283737, -0....  \n",
       "116          25  [-0.01768585, -0.02943631, -0.00054391, -0.015...  \n",
       "117           6  [-0.009156934, -0.019673413, -0.0082705645, -0...  \n",
       "..          ...                                                ...  \n",
       "216          13  [0.0011864604, -0.04014092, 0.009777045, -0.01...  \n",
       "217          21  [0.009347212, -0.01008223, 0.015255094, -0.009...  \n",
       "218           1  [0.005495851, -0.003575635, 0.013053961, 0.000...  \n",
       "219           9  [-0.004339527, -0.028531296, 0.017532898, -0.0...  \n",
       "220          17  [-0.017824065, -0.026084332, 0.0069052815, -0....  \n",
       "\n",
       "[108 rows x 8 columns]"
      ]
     },
     "execution_count": 4,
     "metadata": {},
     "output_type": "execute_result"
    }
   ],
   "source": [
    "df[df['Quarter']==2]"
   ]
  },
  {
   "cell_type": "code",
   "execution_count": 5,
   "metadata": {},
   "outputs": [
    {
     "data": {
      "text/plain": [
       "\"Cosmos DB now supports PostgreSQL, making Azure the first cloud provider to offer a database service that supports both relational and NoSQL workloads. And, in Al, we are turning the world's most advanced models into platforms for customers. Earlier this month, we brought the power of Dall-E to Azure OpenAI service, helping customers like Mattel apply the breakthrough image generation model to commercial use cases for the first time. And Azure Machine Learning provides industry leading MLOps, helping organizations like 3M deploy, manage, and govern models. \""
      ]
     },
     "execution_count": 5,
     "metadata": {},
     "output_type": "execute_result"
    }
   ],
   "source": [
    "df['Chunk'].iloc[11]"
   ]
  },
  {
   "cell_type": "markdown",
   "metadata": {},
   "source": [
    "#### Prompt Template\n",
    "##### Write a Prompt Template. The prompt template should include all filter keys, so they can be referenced and input."
   ]
  },
  {
   "cell_type": "code",
   "execution_count": 6,
   "metadata": {},
   "outputs": [],
   "source": [
    "# template = \"\"\"\n",
    "#         You are given two chunks of text, a ticker e.g. MSFT, Quarter, Year, as input. You will generate 10 relevant questions and answers pairs based on the input.\n",
    "#         The question should be formed based on information in both the chunks of text.\n",
    "#         The answers should be available in the two chunks of text. Do not generate answers on your own.  If answer is not available in the text, just write N/A.\n",
    "               \n",
    "#         An example output for this example is: \n",
    "\n",
    "#         Question: For {ticker} FY{year} Q{quarter}, what is the <question goes here>?\n",
    "#         Answer: example answer paraphrased from the relevant information in the given text goes here \n",
    "\n",
    "#         Based on ticker, quarter, year, the question can be phrased in different ways e.g. MSFT FY23 Q1, MSFT FY2023 1st quarter, e.t.c.\n",
    "#         In case the text question is not relevant, please skip the question and answer pair.\n",
    "#         input_text1: \n",
    "#         {chunk_text1}\n",
    "#         input_text2:\n",
    "#         {chunk_text2}\n",
    "#         ticker: {ticker}\n",
    "#         quarter: {quarter}\n",
    "#         year: {year}\n",
    "#         \"\"\""
   ]
  },
  {
   "cell_type": "markdown",
   "metadata": {},
   "source": [
    "#### Randomly pick filter parameters:\n",
    "\n",
    "Add Filter Parameters to randomly pick them for extracting context (chunks). This will help diversify generating questions and answers. \n",
    "In the MSFT Financial Transcripts use-case, the Ticker name is MSFT, but you can easily add other ticker labels for a larger Financial dataset. `Year`,`Quarter`, and `Id` are the key parameters used in this use-case. In this notebook, we are using two random chunks (chunk ids) from specified filter keys (year, quarter).\n",
    "\n",
    "###### TODO: Add Tools (an updated version of function calls) once it is available for working with newer models. Function Calls are currently deprecated for gpt models with versions beyond 07-01-2023."
   ]
  },
  {
   "cell_type": "code",
   "execution_count": 7,
   "metadata": {},
   "outputs": [],
   "source": [
    "Ticker = np.random.choice(df['Ticker'].unique())\n",
    "Year = np.random.choice(df[df['Ticker']==Ticker]['Year'].unique())\n",
    "Quarter = np.random.choice(df[(df['Ticker']==Ticker) & (df['Year']==Year)]['Quarter'].unique())\n",
    "# Id = np.random.choice(df[(df['Quarter']==Quarter) & (df['Year']==Year)]['Id'].unique())\n",
    "# Id2 = np.random.choice(df[(df['Quarter']==Quarter) & (df['Year']==Year) & (df['Id']!=Id)]['Id'].unique())"
   ]
  },
  {
   "cell_type": "code",
   "execution_count": 8,
   "metadata": {},
   "outputs": [],
   "source": [
    "pagenum1 = np.random.choice(df[(df['Ticker']==Ticker) & (df['Year']==Year) & (df['Quarter']==Quarter)]['PageNumber'].unique())\n",
    "pagenum2 = np.random.choice(df[(df['Ticker']==Ticker) & (df['Year']==Year) & (df['Quarter']==Quarter)]['PageNumber'].unique())"
   ]
  },
  {
   "cell_type": "code",
   "execution_count": 9,
   "metadata": {},
   "outputs": [],
   "source": [
    "chunk1 = df[(df['Ticker']==Ticker) & (df['Year']==Year) & (df['Quarter']==Quarter) & (df['PageNumber']==pagenum1)]['Chunk'].str.cat(sep=' ')\n",
    "chunk2 = df[(df['Ticker']==Ticker) & (df['Year']==Year) & (df['Quarter']==Quarter) & (df['PageNumber']==pagenum2)]['Chunk'].str.cat(sep=' ')"
   ]
  },
  {
   "cell_type": "code",
   "execution_count": 10,
   "metadata": {},
   "outputs": [
    {
     "name": "stdout",
     "output_type": "stream",
     "text": [
      "MSFT 23 3 18 31\n"
     ]
    }
   ],
   "source": [
    "print(Ticker, Year, Quarter, pagenum1, pagenum2)"
   ]
  },
  {
   "cell_type": "markdown",
   "metadata": {},
   "source": [
    "#### Generate Questions (using Azure OpenAI only)"
   ]
  },
  {
   "cell_type": "code",
   "execution_count": 11,
   "metadata": {},
   "outputs": [
    {
     "name": "stdout",
     "output_type": "stream",
     "text": [
      "Question 1: What was the percentage increase in operating income at the end of March compared to a year ago for MSFT FY23 Q3?\n",
      "Answer: Operating income increased 10% and 15% in constant currency, including 4 points due to the change in accounting estimate.\n",
      "\n",
      "Question 2: How did the headcount at the end of March in MSFT FY23 Q3 compare to a year ago?\n",
      "Answer: Headcount at the end of March was 9% higher than a year ago.\n",
      "\n",
      "Question 3: What was the revenue from Productivity and Business Processes in MSFT FY23 Q3?\n",
      "Answer: Revenue from Productivity and Business Processes was $17.5 billion and grew 11% and 15% in constant currency.\n",
      "\n",
      "Question 4: What was the growth rate of Office commercial revenue in MSFT FY23 Q3?\n",
      "Answer: Office commercial revenue grew 13% and 17% in constant currency.\n",
      "\n",
      "Question 5: How much did the Office 365 commercial revenue increase in MSFT FY23 Q3?\n",
      "Answer: Office 365 commercial revenue increased 14% and 18% in constant currency.\n",
      "\n",
      "Question 6: What was the growth rate of paid Office 365 commercial seats in MSFT FY23 Q3?\n",
      "Answer: Paid Office 365 commercial seats grew 11% year-over-year to over 382 million.\n",
      "\n",
      "Question 7: How does Microsoft incentivize its employees to help customers with optimization?\n",
      "Answer: We incent our people to help our customers with optimization because we believe, in the long run, that's the best way to secure the loyalty and long-term contracts with customers.\n",
      "\n",
      "Question 8: How does Microsoft distinguish between absolute and relative performance?\n",
      "Answer: It's also important to distinguish between what I would say is macro or absolute performance and relative performance.\n",
      "\n",
      "Question 9: What approach does Microsoft take with new workloads and optimization efforts in MSFT FY23 Q3?\n",
      "Answer: What we're seeing now is the new workloads start, in addition to highly intense optimization driven that we have.\n",
      "\n",
      "Question 10: What is the fundamental benefit of public cloud according to Microsoft in MSFT FY23 Q3?\n",
      "Answer: The fundamental benefit of public cloud is to help them continuously optimize their workflow.\n"
     ]
    }
   ],
   "source": [
    "import os\n",
    "from openai import AzureOpenAI\n",
    "\n",
    "client = AzureOpenAI(\n",
    "  api_key = openai.api_key,  \n",
    "  api_version = openai.api_version,\n",
    "  azure_endpoint = openai.api_base\n",
    ")\n",
    "\n",
    "response = client.chat.completions.create(\n",
    "    model=\"gpt-35-turbo\", # model = \"deployment_name\".\n",
    "    messages=[\n",
    "        {\"role\": \"system\", \"content\":\"You are a generator of questions and answers for the given text.\" },\n",
    "        {\"role\": \"user\", \"content\": gen_prompt.format(chunk_text1=chunk1, chunk_text2=chunk2, \n",
    "                                                    ticker=Ticker, year=str(Year), quarter=str(Quarter))}\n",
    "    ]\n",
    ")\n",
    "\n",
    "#print(response)\n",
    "# print(response.model_dump_json(indent=2))\n",
    "print(response.choices[0].message.content)\n",
    "\n",
    "#TODO: Add cells showing adding tools to the chat completion. It is an update to functionc calling feature. Function calling feature is not available in the current version of the API.OpenAI version > 1.0.0."
   ]
  },
  {
   "cell_type": "code",
   "execution_count": 12,
   "metadata": {},
   "outputs": [
    {
     "name": "stdout",
     "output_type": "stream",
     "text": [
      "Question 1: What was the percentage increase in operating income at the end of March compared to a year ago for MSFT FY23 Q3?\n",
      "Answer: Operating income increased 10% and 15% in constant currency, including 4 points due to the change in accounting estimate.\n",
      "\n",
      "Question 2: How did the headcount at the end of March in MSFT FY23 Q3 compare to a year ago?\n",
      "Answer: Headcount at the end of March was 9% higher than a year ago.\n",
      "\n",
      "Question 3: What was the revenue from Productivity and Business Processes in MSFT FY23 Q3?\n",
      "Answer: Revenue from Productivity and Business Processes was $17.5 billion and grew 11% and 15% in constant currency.\n",
      "\n",
      "Question 4: What was the growth rate of Office commercial revenue in MSFT FY23 Q3?\n",
      "Answer: Office commercial revenue grew 13% and 17% in constant currency.\n",
      "\n",
      "Question 5: How much did the Office 365 commercial revenue increase in MSFT FY23 Q3?\n",
      "Answer: Office 365 commercial revenue increased 14% and 18% in constant currency.\n",
      "\n",
      "Question 6: What was the growth rate of paid Office 365 commercial seats in MSFT FY23 Q3?\n",
      "Answer: Paid Office 365 commercial seats grew 11% year-over-year to over 382 million.\n",
      "\n",
      "Question 7: How does Microsoft incentivize its employees to help customers with optimization?\n",
      "Answer: We incent our people to help our customers with optimization because we believe, in the long run, that's the best way to secure the loyalty and long-term contracts with customers.\n",
      "\n",
      "Question 8: How does Microsoft distinguish between absolute and relative performance?\n",
      "Answer: It's also important to distinguish between what I would say is macro or absolute performance and relative performance.\n",
      "\n",
      "Question 9: What approach does Microsoft take with new workloads and optimization efforts in MSFT FY23 Q3?\n",
      "Answer: What we're seeing now is the new workloads start, in addition to highly intense optimization driven that we have.\n",
      "\n",
      "Question 10: What is the fundamental benefit of public cloud according to Microsoft in MSFT FY23 Q3?\n",
      "Answer: The fundamental benefit of public cloud is to help them continuously optimize their workflow.\n"
     ]
    }
   ],
   "source": [
    "print(response.choices[0].message.content)\n"
   ]
  },
  {
   "cell_type": "code",
   "execution_count": 13,
   "metadata": {},
   "outputs": [
    {
     "data": {
      "text/plain": [
       "['roughly 2 points from the Nuance and Xandr acquisitions, as well as investments in cloud engineering and LinkedIn. At a total company level, headcount at the end of March was 9% higher than a year ago.',\n",
       " 'Operating income increased 10% and 15% in constant currency, including 4 points due to the change in accounting estimate.',\n",
       " 'Operating margins increased roughly 1 point year-over-year to 42%.',\n",
       " 'Excluding the impact of the change in accounting estimate, operating margins decreased slightly and increased slightly in constant currency.',\n",
       " 'Now to our segment results.',\n",
       " 'Revenue from Productivity and Business Processes was $17.5 billion and  Now to our segment results.',\n",
       " 'Revenue from Productivity and Business Processes was $17.5 billion and grew 11% and 15% in constant currency, ahead of expectations primarily driven by better-than-expected results in Office commercial.',\n",
       " 'Office commercial revenue grew 13% and 17% in constant currency.',\n",
       " 'Office 365 commercial revenue increased 14% and 18% in constant currency, slightly better than expected with the strong renewal execution mentioned earlier and E5 momentum.',\n",
       " 'Paid Office 365 commercial seats grew 11% year-over-year to over 382 million, with installed base expansion across all workloads and customer segments.',\n",
       " 'Seat growth was again driven by our ']"
      ]
     },
     "execution_count": 13,
     "metadata": {},
     "output_type": "execute_result"
    }
   ],
   "source": [
    "import re\n",
    "_pattern = re.compile(r'(?<!\\w\\.\\w.)(?<![A-Z][a-z]\\.)(?<=\\.|\\?)\\s')\n",
    "retrieved_sentences=_pattern.split(chunk1)\n",
    "retrieved_sentences"
   ]
  },
  {
   "cell_type": "code",
   "execution_count": 14,
   "metadata": {},
   "outputs": [
    {
     "data": {
      "text/plain": [
       "['comments.',\n",
       " \"And it's also important, I think, to distinguish between what I would say is macro or absolute performance and relative performance, because I think that's perhaps a good way to think about how we manage our business.\",\n",
       " 'First is optimizations do continue.',\n",
       " 'In fact, we are focused on it.',\n",
       " \"We incent our people to help our customers with optimization, because we believe, in the long run, that's the best way to secure the loyalty and long-term contracts with customers, when they know that they can count on a cloud provider like us to help them continuously optimize their workflow.\",\n",
       " \"That's sort of the fundamental benefit of public cloud, and we're taking every  provider like us to help them continuously optimize their workflow.\",\n",
       " \"That's sort of the fundamental benefit of public cloud, and we're taking every opportunity to prove that out with customers in real time.\",\n",
       " \"The second thing I'd say is we do have new workloads started, because if you think about it, during the pandemic, it was all about new workloads and scaling workloads.\",\n",
       " 'But pre-pandemic, there was a balance between optimizations and new workloads.',\n",
       " \"What we're seeing now is the new workloads start, in addition to highly intense optimization driven that we have.\",\n",
       " 'The third is perhaps more of a relative statement.',\n",
       " 'Because of some of the ']"
      ]
     },
     "execution_count": 14,
     "metadata": {},
     "output_type": "execute_result"
    }
   ],
   "source": [
    "retrieved_sentences2=_pattern.split(chunk2)\n",
    "retrieved_sentences2"
   ]
  },
  {
   "cell_type": "markdown",
   "metadata": {},
   "source": [
    "### Save Eval Set to a csv\n"
   ]
  },
  {
   "cell_type": "markdown",
   "metadata": {},
   "source": [
    "**Note on text structuring and format:** We could chain another llm call to convert to a format suitable to be saved to csv. The prompt can be modified to provide answer in this form directly. But, it is left as an exercise for the user to update prompt to work with whatever format they want to use. Here we split and reorganize the format output by the model using python, for the promptflow sample.\n",
    "\n",
    "**Note on csv dataset format choice:** csv is a customer requirement, and a proper way can be to log them to a database and populate them. "
   ]
  },
  {
   "cell_type": "code",
   "execution_count": 15,
   "metadata": {},
   "outputs": [],
   "source": [
    "qa_string = response.choices[0].message.content\n",
    "# Parse the string into rows\n",
    "rows = [row.strip() for row in qa_string.split('\\n') if row.strip()]\n",
    "\n",
    "# Separate questions and answers\n",
    "questions = [row.split(\": \", 1)[1] for i, row in enumerate(rows) if i % 2 == 0]\n",
    "answers = [row.split(\": \", 1)[1] for i, row in enumerate(rows) if (i - 1) % 2 == 0]\n",
    "\n",
    "# Combine into a list of dictionaries\n",
    "qa_data = [{\"chat_history\": \"[]\", \"question\": q, \"answer\": a} for q, a in zip(questions, answers)]"
   ]
  },
  {
   "cell_type": "code",
   "execution_count": 16,
   "metadata": {},
   "outputs": [
    {
     "data": {
      "text/plain": [
       "[{'chat_history': '[]',\n",
       "  'question': 'What was the percentage increase in operating income at the end of March compared to a year ago for MSFT FY23 Q3?',\n",
       "  'answer': 'Operating income increased 10% and 15% in constant currency, including 4 points due to the change in accounting estimate.'},\n",
       " {'chat_history': '[]',\n",
       "  'question': 'How did the headcount at the end of March in MSFT FY23 Q3 compare to a year ago?',\n",
       "  'answer': 'Headcount at the end of March was 9% higher than a year ago.'},\n",
       " {'chat_history': '[]',\n",
       "  'question': 'What was the revenue from Productivity and Business Processes in MSFT FY23 Q3?',\n",
       "  'answer': 'Revenue from Productivity and Business Processes was $17.5 billion and grew 11% and 15% in constant currency.'},\n",
       " {'chat_history': '[]',\n",
       "  'question': 'What was the growth rate of Office commercial revenue in MSFT FY23 Q3?',\n",
       "  'answer': 'Office commercial revenue grew 13% and 17% in constant currency.'},\n",
       " {'chat_history': '[]',\n",
       "  'question': 'How much did the Office 365 commercial revenue increase in MSFT FY23 Q3?',\n",
       "  'answer': 'Office 365 commercial revenue increased 14% and 18% in constant currency.'},\n",
       " {'chat_history': '[]',\n",
       "  'question': 'What was the growth rate of paid Office 365 commercial seats in MSFT FY23 Q3?',\n",
       "  'answer': 'Paid Office 365 commercial seats grew 11% year-over-year to over 382 million.'},\n",
       " {'chat_history': '[]',\n",
       "  'question': 'How does Microsoft incentivize its employees to help customers with optimization?',\n",
       "  'answer': \"We incent our people to help our customers with optimization because we believe, in the long run, that's the best way to secure the loyalty and long-term contracts with customers.\"},\n",
       " {'chat_history': '[]',\n",
       "  'question': 'How does Microsoft distinguish between absolute and relative performance?',\n",
       "  'answer': \"It's also important to distinguish between what I would say is macro or absolute performance and relative performance.\"},\n",
       " {'chat_history': '[]',\n",
       "  'question': 'What approach does Microsoft take with new workloads and optimization efforts in MSFT FY23 Q3?',\n",
       "  'answer': \"What we're seeing now is the new workloads start, in addition to highly intense optimization driven that we have.\"},\n",
       " {'chat_history': '[]',\n",
       "  'question': 'What is the fundamental benefit of public cloud according to Microsoft in MSFT FY23 Q3?',\n",
       "  'answer': 'The fundamental benefit of public cloud is to help them continuously optimize their workflow.'}]"
      ]
     },
     "execution_count": 16,
     "metadata": {},
     "output_type": "execute_result"
    }
   ],
   "source": [
    "qa_data"
   ]
  },
  {
   "cell_type": "code",
   "execution_count": 17,
   "metadata": {},
   "outputs": [
    {
     "name": "stdout",
     "output_type": "stream",
     "text": [
      "Data has been saved to ../datasets/generated_eval_set.csv.\n"
     ]
    }
   ],
   "source": [
    "csv_file_path = \"../datasets/generated_eval_set.csv\"\n",
    "import csv\n",
    "# Writing to CSV file\n",
    "with open(csv_file_path, mode='w', newline='') as file:\n",
    "    writer = csv.DictWriter(file, fieldnames=[\"chat_history\", \"question\", \"answer\"])\n",
    "    \n",
    "    # Write headers\n",
    "    writer.writeheader()\n",
    "    \n",
    "    # Write data\n",
    "    writer.writerows(qa_data)\n",
    "\n",
    "print(f\"Data has been saved to {csv_file_path}.\")"
   ]
  },
  {
   "cell_type": "markdown",
   "metadata": {},
   "source": [
    "AI as a Judge: Adding a superior AI model as a judge to evaluate the generated questions and answers. "
   ]
  },
  {
   "cell_type": "code",
   "execution_count": 21,
   "metadata": {},
   "outputs": [],
   "source": [
    "def get_ai_eval_score(question_answer_set, chunk1 = chunk1, chunk2 = chunk2):\n",
    "    \n",
    "    \n",
    "    # eval_prompt= f\"\"\" For the given set of questions and answers, determine if the answer is relevant to either of the contexts.\n",
    "    # Set of questions and answers: {question_answer_set}\n",
    "    # Context1: {chunk1}\n",
    "    # Context2: {chunk2}\n",
    "    # Evaluate the accuracy of the question answer extraction model.\n",
    "    # Given a set of 10 questions and answers, the context sources Context1 and Context2,  determine if the model's question and answer is relevant to one of the contexts.\n",
    "    # Return only a single score of 0 or 1 indicating whether the model's question and answer is grounded in either of the contexts. Rewrite each of the questions and answers, and add a line for score you give. For example:\n",
    "    # Question: <question goes here>\n",
    "    # Answer: <answer goes here>\n",
    "    # Score: <score goes here>\n",
    "    # \"\"\" \n",
    "    response_eval = client.chat.completions.create(\n",
    "        model=\"gpt-4-turbo\",\n",
    "        messages=[\n",
    "            {\"role\": \"system\", \"content\":\"You are a generator of questions and answers for the given text.\" },\n",
    "            {\"role\": \"user\", \"content\": eval_prompt2.format(question_answer_set=question_answer_set, chunk1=chunk1, chunk2=chunk2)}\n",
    "        ]\n",
    "    )\n",
    "        \n",
    "    \n",
    "    return response_eval.choices[0].message.content"
   ]
  },
  {
   "cell_type": "code",
   "execution_count": 22,
   "metadata": {},
   "outputs": [],
   "source": [
    "response_eval_score = get_ai_eval_score(response.choices[0].message.content, chunk1, chunk2)\n"
   ]
  },
  {
   "cell_type": "code",
   "execution_count": 23,
   "metadata": {},
   "outputs": [
    {
     "name": "stdout",
     "output_type": "stream",
     "text": [
      "Question 1: What was the percentage increase in operating income at the end of March compared to a year ago for MSFT FY23 Q3?\n",
      "Answer: Operating income increased 10% and 15% in constant currency, including 4 points due to the change in accounting estimate.\n",
      "Score: 4\n",
      "Description: This question is directly answered by Context1, which contains the specific percentages and reasons for the increase in operating income.\n",
      "\n",
      "Question 2: How did the headcount at the end of March in MSFT FY23 Q3 compare to a year ago?\n",
      "Answer: Headcount at the end of March was 9% higher than a year ago.\n",
      "Score: 4\n",
      "Description: The question is answered by Context1 indicating the specific percentage by which the headcount increased.\n",
      "\n",
      "Question 3: What was the revenue from Productivity and Business Processes in MSFT FY23 Q3?\n",
      "Answer: Revenue from Productivity and Business Processes was $17.5 billion and grew 11% and 15% in constant currency.\n",
      "Score: 4\n",
      "Description: Context1 provides direct information about revenue from Productivity and Business Processes, making this question relevant and well-grounded in the provided data.\n",
      "\n",
      "Question 4: What was the growth rate of Office commercial revenue in MSFT FY23 Q3?\n",
      "Answer: Office commercial revenue grew 13% and 17% in constant currency.\n",
      "Score: 4\n",
      "Description: This question is also directly answered with information provided in Context1, which specifies the growth rates of Office commercial revenue.\n",
      "\n",
      "Question 5: How much did the Office 365 commercial revenue increase in MSFT FY23 Q3?\n",
      "Answer: Office 365 commercial revenue increased 14% and 18% in constant currency.\n",
      "Score: 4\n",
      "Description: The growth in Office 365 commercial revenue is specifically detailed in Context1, making the question and corresponding answer relevant.\n",
      "\n",
      "Question 6: What was the growth rate of paid Office 365 commercial seats in MSFT FY23 Q3?\n",
      "Answer: Paid Office 365 commercial seats grew 11% year-over-year to over 382 million.\n",
      "Score: 4\n",
      "Description: Context1 tells us about the growth rate and total number of paid Office 365 commercial seats, so the question is well-founded.\n",
      "\n",
      "Question 7: How does Microsoft incentivize its employees to help customers with optimization?\n",
      "Answer: We incent our people to help our customers with optimization because we believe, in the long run, that's the best way to secure the loyalty and long-term contracts with customers.\n",
      "Score: 4\n",
      "Description: The approach to incentivizing employees for customer optimization is detailed in Context2, making the question related and accurate.\n",
      "\n",
      "Question 8: How does Microsoft distinguish between absolute and relative performance?\n",
      "Answer: It's also important to distinguish between what I would say is macro or absolute performance and relative performance.\n",
      "Score: 4\n",
      "Description: The differentiation between absolute and relative performance is translated directly from Context2, validating the relevance of the question.\n",
      "\n",
      "Question 9: What approach does Microsoft take with new workloads and optimization efforts in MSFT FY23 Q3?\n",
      "Answer: What we're seeing now is the new workloads start, in addition to highly intense optimization driven that we have.\n",
      "Score: 4\n",
      "Description: The question connects with the commentary on how Microsoft is managing new workloads and optimization, as mentioned in Context2.\n",
      "\n",
      "Question 10: What is the fundamental benefit of public cloud according to Microsoft in MSFT FY23 Q3?\n",
      "Answer: The fundamental benefit of public cloud is to help them continuously optimize their workflow.\n",
      "Score: 4\n",
      "Description: This question is relevant and the answer is paraphrased from Context2, which speaks about the strategic benefit of the public cloud.\n"
     ]
    }
   ],
   "source": [
    "print(response_eval_score)"
   ]
  }
 ],
 "metadata": {
  "kernelspec": {
   "display_name": "appliedai",
   "language": "python",
   "name": "python3"
  },
  "language_info": {
   "codemirror_mode": {
    "name": "ipython",
    "version": 3
   },
   "file_extension": ".py",
   "mimetype": "text/x-python",
   "name": "python",
   "nbconvert_exporter": "python",
   "pygments_lexer": "ipython3",
   "version": "3.9.18"
  }
 },
 "nbformat": 4,
 "nbformat_minor": 2
}
