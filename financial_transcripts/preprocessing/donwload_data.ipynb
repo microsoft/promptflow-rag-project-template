{
 "cells": [
  {
   "cell_type": "markdown",
   "metadata": {},
   "source": [
    "### Step1: Download data from azure blob storage\n",
    "\n",
    "This code downloads the Msft financial transcripts from a blob storage. If you do not have access to blob, then download \"Microsoft Earning Call Transcripts\" for four quarters for year 2023 and put it in \"Data\" folder. Make sure to rename the file similar to \"MSFTTranscriptFY23Q4.docx\"\n",
    "\n",
    "Msft Earning Call Transcripts for 2023-Q4\n",
    "https://www.fool.com/earnings/call-transcripts/2023/07/25/microsoft-msft-q4-2023-earnings-call-transcript/\n",
    "\n"
   ]
  },
  {
   "cell_type": "code",
   "execution_count": null,
   "metadata": {},
   "outputs": [],
   "source": [
    "from azure.storage.blob import BlobServiceClient\n",
    "import os\n",
    "from pathlib import Path\n",
    "\n",
    "# Name of the container in the Blob Storage\n",
    "container_name = \"public\"\n",
    "\n",
    "# Local directory path to save the downloaded files\n",
    "local_directory = Path(\"DATA/\")\n",
    "\n",
    "def download_files_from_blob_storage(container_name, local_directory):\n",
    "    # Create a BlobServiceClient using the default credentials (public access)\n",
    "    blob_service_client = BlobServiceClient.from_connection_string(\"DefaultEndpointsProtocol=https;AccountName=appliedaipublicdata;EndpointSuffix=core.windows.net\")\n",
    "\n",
    "    # Get a reference to the container\n",
    "    container_client = blob_service_client.get_container_client(container_name)\n",
    "\n",
    "    # List all blobs in the container\n",
    "    blob_list = container_client.list_blobs()\n",
    "\n",
    "    for blob in blob_list:\n",
    "        blob_name = blob.name\n",
    "        print(blob_name)\n",
    "        \n",
    "        # Check if the blob has a .docx extension (Word document)\n",
    "        if blob_name.lower().endswith(\".docx\"):\n",
    "            blob_client = container_client.get_blob_client(blob_name)\n",
    "            \n",
    "            # Construct the local file path to save the blob\n",
    "            local_file_path = os.path.join(local_directory, blob_name.split(\"/\")[-1])  # Use only the last part of the blob path\n",
    "            \n",
    "            # Download the blob to the local directory\n",
    "            with open(local_file_path, \"wb\") as local_file:\n",
    "                blob_data = blob_client.download_blob()\n",
    "                local_file.write(blob_data.readall())\n",
    "            \n",
    "            print(f\"Downloaded: {blob_name}\")\n",
    "\n",
    "\n",
    "download_files_from_blob_storage(container_name, local_directory)\n"
   ]
  },
  {
   "cell_type": "markdown",
   "metadata": {},
   "source": [
    "### Step 2: Convert .docx to .pdf format"
   ]
  },
  {
   "cell_type": "code",
   "execution_count": null,
   "metadata": {},
   "outputs": [],
   "source": [
    "from docx2pdf import convert\n",
    "import os\n",
    "\n",
    "directory = Path('DATA')\n",
    "docx_files = [filename for filename in os.listdir(directory) if filename.endswith('.docx')]\n",
    "name_len_docx = []\n",
    "name_len_pdf = []\n",
    "print(len(docx_files))"
   ]
  },
  {
   "cell_type": "code",
   "execution_count": null,
   "metadata": {},
   "outputs": [],
   "source": [
    "for filename in docx_files:\n",
    "    \n",
    "    docx_path = os.path.join(directory, filename)\n",
    "    # if len(filename)>35:\n",
    "    #     filename = filename[:35]\n",
    "    pdf_path = os.path.join(directory, f\"{os.path.splitext(filename)[0]}.pdf\")\n",
    "\n",
    "    # Check if PDF already exists\n",
    "    if os.path.exists(pdf_path):\n",
    "        print(f\"Skipping conversion for {filename}. PDF already exists.\")\n",
    "        continue\n",
    "\n",
    "    name_len_docx.append(len(docx_path))\n",
    "    print(filename, name_len_docx)\n",
    "    name_len_pdf.append(len(pdf_path))\n",
    "    print(name_len_pdf)\n",
    "    try: \n",
    "        convert(docx_path, pdf_path)\n",
    "    except:\n",
    "        print('Error in converting file, retrying...')\n",
    "        try:\n",
    "            convert(docx_path, pdf_path)\n",
    "        except:\n",
    "            Exception(\"Error in converting file\")\n"
   ]
  },
  {
   "cell_type": "code",
   "execution_count": null,
   "metadata": {},
   "outputs": [],
   "source": []
  }
 ],
 "metadata": {
  "kernelspec": {
   "display_name": "nbdev",
   "language": "python",
   "name": "nbdev"
  },
  "language_info": {
   "codemirror_mode": {
    "name": "ipython",
    "version": 3
   },
   "file_extension": ".py",
   "mimetype": "text/x-python",
   "name": "python",
   "nbconvert_exporter": "python",
   "pygments_lexer": "ipython3",
   "version": "3.8.11"
  },
  "orig_nbformat": 4
 },
 "nbformat": 4,
 "nbformat_minor": 2
}
